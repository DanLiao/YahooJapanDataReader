{
 "cells": [
  {
   "cell_type": "code",
   "execution_count": 4,
   "metadata": {
    "collapsed": true
   },
   "outputs": [],
   "source": [
    "from YahooJapanDataReader.YJDataReader import DataReader"
   ]
  },
  {
   "cell_type": "code",
   "execution_count": 6,
   "metadata": {},
   "outputs": [
    {
     "name": "stdout",
     "output_type": "stream",
     "text": [
      "                 Split_Ratio\nCode Date                   \n8411 2009-01-05         1000\n"
     ]
    }
   ],
   "source": [
    "# 分割情報を取得する\n",
    "_split = DataReader(8411, data_source='yahoojp_split')\n",
    "print(_split)"
   ]
  },
  {
   "cell_type": "code",
   "execution_count": 7,
   "metadata": {},
   "outputs": [
    {
     "name": "stdout",
     "output_type": "stream",
     "text": [
      "                   Open    High     Low   Close     Volume\nCode Date                                                 \n8411 2008-12-19  259400  270600  253200  259900     281076\n     2008-12-22  266400  276000  265800  270200     164024\n     2008-12-24  262200  268100  254400  257700      96027\n     2009-01-05     283     294     279     292   91382100\n     2009-01-06     297     299     287     289  112779100\n"
     ]
    }
   ],
   "source": [
    "# 株価を取得する(デフォルト)\n",
    "_df_price = DataReader(8411, data_source='yahoojp', start='2008-12-19', end='2009-01-17')\n",
    "print(_df_price.head(5))"
   ]
  },
  {
   "cell_type": "code",
   "execution_count": 8,
   "metadata": {},
   "outputs": [
    {
     "name": "stdout",
     "output_type": "stream",
     "text": [
      "                  Open   High    Low  Close     Volume\nCode Date                                             \n8411 2008-12-19  259.4  270.6  253.2  259.9  281076000\n     2008-12-22  266.4  276.0  265.8  270.2  164024000\n     2008-12-24  262.2  268.1  254.4  257.7   96027000\n     2009-01-05  283.0  294.0  279.0  292.0   91382100\n     2009-01-06  297.0  299.0  287.0  289.0  112779100\n"
     ]
    }
   ],
   "source": [
    "# 株価を取得する(調整あり)\n",
    "_df_price = DataReader(8411, data_source='yahoojp', start='2008-12-19', end='2009-01-17', adjust=True)\n",
    "print(_df_price.head(5))"
   ]
  },
  {
   "cell_type": "code",
   "execution_count": 9,
   "metadata": {},
   "outputs": [
    {
     "name": "stdout",
     "output_type": "stream",
     "text": [
      "{'unit_shares': '100', 'average_age': '37.8', 'sector': '銀行業', 'exchanges': '東証1部', 'specify': '３メガバンクで規模２位。旧富士、第一勧業、日本興業の３行が前身。銀行・信託・証券の連携加速', 'company_name_jp': 'みずほフィナンシャルグループ', 'employees_consolidates': '58913', 'code': '8411', 'established_date': '2003年1月8日', 'telephone': '０３−５２２４−１１１１', 'consolidated_business': '【資金】預金76、金銭信13、他11【資産】現・預け金14、有価証券16、貸出金29、他41【融資】中小企業等向け59、住宅・消費者向け20(2016.3)', 'company_name_en': 'Ｍｉｚｕｈｏ\\u3000Ｆｉｎａｎｃｉａｌ\\u3000Ｇｒｏｕｐ，\\u3000Ｉｎｃ．', 'hq_address': '〒100-8176 東京都千代田区大手町１−５−５', 'employees_independent': '29452', 'average_income': '7570', 'closing': '3月末日', 'ceo_name': '佐藤\\u3000康博', 'name': '(株)みずほフィナンシャルグループ【8411】', 'ipo_date': '2003年3月12日'}\n"
     ]
    }
   ],
   "source": [
    "# 会社情報を取得する\n",
    "_profile = DataReader(8411, data_source='yahoojp_profile')\n",
    "print(_profile)"
   ]
  },
  {
   "cell_type": "code",
   "execution_count": 10,
   "metadata": {},
   "outputs": [
    {
     "name": "stdout",
     "output_type": "stream",
     "text": [
      "       Unnamed: 0            前期           2期前           3期前\n0             決算期      2016年3月期      2015年3月期      2014年3月期\n1            会計方式          日本方式          日本方式          日本方式\n2           決算発表日    2016年5月13日    2015年5月15日    2014年5月14日\n3            決算月数          12か月          12か月          12か月\n4             売上高    333,500百万円    377,777百万円    316,886百万円\n5            営業利益          ‥百万円          ‥百万円          ‥百万円\n6            経常利益    296,562百万円    349,438百万円    289,031百万円\n7            当期利益    304,389百万円    349,001百万円    285,861百万円\n8    EPS（一株当たり利益）        12.17円        14.11円        11.53円\n9       調整一株当たり利益        11.98円        13.74円        11.25円\n10           1株配当         7.50円         7.50円         6.50円\n11           配当区分           ---           ---           ---\n12  BPS（一株当たり純資産）       203.58円       198.15円       188.90円\n13       発行済み株式総数  25,030,525千株  24,621,897千株  24,263,885千株\n14            総資産  7,064,211百万円  6,603,104百万円  6,251,324百万円\n15           自己資本  5,194,446百万円  5,092,385百万円  4,897,238百万円\n16            資本金  2,255,790百万円  2,255,404百万円  2,254,972百万円\n17          有利子負債           ---           ---           ---\n18         自己資本比率         73.5%         77.1%         78.3%\n19    ROA（総資産利益率）         4.45%         5.43%         4.59%\n20   ROE（自己資本利益率）         5.92%         6.99%         5.90%\n21       総資産経常利益率         4.34%         5.44%         4.64%\n"
     ]
    }
   ],
   "source": [
    "# 個別決算を取得する\n",
    "_independent = DataReader(8411, data_source='yahoojp_independent')\n",
    "print(_independent)"
   ]
  },
  {
   "cell_type": "code",
   "execution_count": 10,
   "metadata": {},
   "outputs": [
    {
     "name": "stdout",
     "output_type": "stream",
     "text": [
      "       Unnamed: 0              前期             2期前             3期前\n0             決算期        2016年3月期        2015年3月期        2014年3月期\n1            会計方式            日本方式            日本方式            日本方式\n2           決算発表日      2016年5月13日      2015年5月15日      2014年5月14日\n3            決算月数            12か月            12か月            12か月\n4             売上高    3,215,274百万円    3,180,225百万円    2,927,760百万円\n5            営業利益      852,854百万円      876,961百万円      744,264百万円\n6            経常利益      997,529百万円    1,010,867百万円      987,587百万円\n7            当期利益      670,943百万円      611,935百万円      688,415百万円\n8    EPS（一株当たり利益）          26.94円          24.91円          28.18円\n9       調整一株当たり利益          26.42円          24.10円          27.12円\n10  BPS（一株当たり純資産）         322.46円         322.86円         253.25円\n11            総資産  193,458,580百万円  189,684,749百万円  175,822,885百万円\n12           自己資本    8,167,814百万円    8,161,123百万円    6,457,313百万円\n13            資本金    2,255,790百万円    2,255,404百万円    2,254,972百万円\n14          有利子負債             ---             ---             ---\n15         自己資本比率            4.2%            4.3%            3.6%\n16    ROA（総資産利益率）           0.35%           0.33%           0.39%\n17   ROE（自己資本利益率）           8.22%           8.37%          11.12%\n18       総資産経常利益率           0.52%           0.55%           0.56%\n"
     ]
    }
   ],
   "source": [
    "# 連結決算を取得する\n",
    "_consolidate = DataReader(8411, data_source='yahoojp_consolidate')\n",
    "print(_consolidate)"
   ]
  }
 ],
 "metadata": {
  "kernelspec": {
   "display_name": "Python 2",
   "language": "python",
   "name": "python2"
  },
  "language_info": {
   "codemirror_mode": {
    "name": "ipython",
    "version": 2.0
   },
   "file_extension": ".py",
   "mimetype": "text/x-python",
   "name": "python",
   "nbconvert_exporter": "python",
   "pygments_lexer": "ipython2",
   "version": "2.7.6"
  }
 },
 "nbformat": 4,
 "nbformat_minor": 0
}